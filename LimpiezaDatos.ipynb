{
 "cells": [
  {
   "cell_type": "markdown",
   "id": "2b0e6e11-858c-4400-95dd-c62e6e408743",
   "metadata": {},
   "source": [
    "# Limpiar datos"
   ]
  },
  {
   "cell_type": "code",
   "execution_count": 107,
   "id": "4061400c-2bb2-4f12-9556-361841bcfa4a",
   "metadata": {},
   "outputs": [
    {
     "name": "stdout",
     "output_type": "stream",
     "text": [
      "   ID  Nombre             Edad     Genero  Salario Departamento\n",
      "0   1     Ana               25   Femenino  50000.0       Ventas\n",
      "1   2    Luis               30  Masculino      NaN    Marketing\n",
      "2   3  Carlos  Treinta y cinco  Masculino  60000.0       Ventas\n",
      "3   4   Sofia               40   Femenino  55000.0         RRHH\n",
      "4   5     NaN               45  Masculino  70000.0           TI\n"
     ]
    }
   ],
   "source": [
    "import pandas as pd\n",
    "\n",
    "df = pd.read_csv('./datos_ejemplo.csv')\n",
    "print(df.head())"
   ]
  },
  {
   "cell_type": "code",
   "execution_count": 108,
   "id": "321c7538-a9f1-4929-b67a-8e8d61e81927",
   "metadata": {},
   "outputs": [
    {
     "name": "stdout",
     "output_type": "stream",
     "text": [
      "Valores nulos por columna\n",
      "      ID  Nombre   Edad  Genero  Salario  Departamento\n",
      "0  False   False  False   False    False         False\n",
      "1  False   False  False   False     True         False\n",
      "2  False   False  False   False    False         False\n",
      "3  False   False  False   False    False         False\n",
      "4  False    True  False   False    False         False\n",
      "5  False   False  False   False    False         False\n",
      "6  False   False  False   False    False         False\n",
      "7  False   False  False   False    False         False\n",
      "ID              0\n",
      "Nombre          1\n",
      "Edad            0\n",
      "Genero          0\n",
      "Salario         1\n",
      "Departamento    0\n",
      "dtype: int64\n"
     ]
    }
   ],
   "source": [
    "# Manejo de valores nulos\n",
    "\n",
    "print('Valores nulos por columna')\n",
    "dfNulos = df.isnull()\n",
    "print(dfNulos)\n",
    "print(dfNulos.sum())"
   ]
  },
  {
   "cell_type": "code",
   "execution_count": 109,
   "id": "ecda0c34-212d-48e3-a1fb-bfa870d52e08",
   "metadata": {},
   "outputs": [
    {
     "name": "stdout",
     "output_type": "stream",
     "text": [
      "   ID   Nombre             Edad     Genero  Salario Departamento\n",
      "0   1      Ana               25   Femenino  50000.0       Ventas\n",
      "2   3   Carlos  Treinta y cinco  Masculino  60000.0       Ventas\n",
      "3   4    Sofia               40   Femenino  55000.0         RRHH\n",
      "5   6  Carlos1  Treinta y cinco      Trans  60000.0       Ventas\n",
      "6   7  Carlos2  Treinta y cinco        Gay  60000.0       Ventas\n",
      "7   8  Carlos3  Treinta y cinco   Lesbiana  60000.0       Ventas\n"
     ]
    }
   ],
   "source": [
    "# Eliminar las filas que tienen valores nulos, la fila completa\n",
    "\n",
    "dfFilaDel = df.dropna()\n",
    "print(dfFilaDel)"
   ]
  },
  {
   "cell_type": "code",
   "execution_count": 110,
   "id": "83ad163d-965a-40e2-8b7a-18c8b3e70d17",
   "metadata": {},
   "outputs": [
    {
     "name": "stdout",
     "output_type": "stream",
     "text": [
      "   ID   Nombre             Edad     Genero  Salario Departamento\n",
      "0   1      Ana               25   Femenino  50000.0       Ventas\n",
      "1   2     Luis               30  Masculino      0.0    Marketing\n",
      "2   3   Carlos  Treinta y cinco  Masculino  60000.0       Ventas\n",
      "3   4    Sofia               40   Femenino  55000.0         RRHH\n",
      "4   5  JohnDoe               45  Masculino  70000.0           TI\n",
      "5   6  Carlos1  Treinta y cinco      Trans  60000.0       Ventas\n",
      "6   7  Carlos2  Treinta y cinco        Gay  60000.0       Ventas\n",
      "7   8  Carlos3  Treinta y cinco   Lesbiana  60000.0       Ventas\n"
     ]
    }
   ],
   "source": [
    "# Rellenar valores nulos con valor especifico\n",
    "\n",
    "dfFilledUp = df.fillna({'Salario': 0, 'Nombre': 'JohnDoe', 'ColumnFake': 'NON existing column'})\n",
    "# Si el nombre de la comuna no existe ignora esa transformacion\n",
    "print(dfFilledUp)"
   ]
  },
  {
   "cell_type": "code",
   "execution_count": 111,
   "id": "489a64e4-2856-470d-b2bf-6720438e3885",
   "metadata": {},
   "outputs": [
    {
     "name": "stdout",
     "output_type": "stream",
     "text": [
      "   ID   Nombre  Edad     Genero  Salario Departamento\n",
      "0   1      Ana  25.0   Femenino  50000.0       Ventas\n",
      "1   2     Luis  30.0  Masculino      NaN    Marketing\n",
      "2   3   Carlos   NaN  Masculino  60000.0       Ventas\n",
      "3   4    Sofia  40.0   Femenino  55000.0         RRHH\n",
      "4   5      NaN  45.0  Masculino  70000.0           TI\n",
      "5   6  Carlos1   NaN      Trans  60000.0       Ventas\n",
      "6   7  Carlos2   NaN        Gay  60000.0       Ventas\n",
      "7   8  Carlos3   NaN   Lesbiana  60000.0       Ventas\n",
      "ID                int64\n",
      "Nombre           object\n",
      "Edad            float64\n",
      "Genero           object\n",
      "Salario         float64\n",
      "Departamento     object\n",
      "dtype: object\n",
      "Rellenar valores nulos con la media\n",
      "   ID   Nombre  Edad     Genero  Salario Departamento\n",
      "0   1      Ana  25.0   Femenino  50000.0       Ventas\n",
      "1   2     Luis  30.0  Masculino      NaN    Marketing\n",
      "2   3   Carlos  35.0  Masculino  60000.0       Ventas\n",
      "3   4    Sofia  40.0   Femenino  55000.0         RRHH\n",
      "4   5      NaN  45.0  Masculino  70000.0           TI\n",
      "5   6  Carlos1  35.0      Trans  60000.0       Ventas\n",
      "6   7  Carlos2  35.0        Gay  60000.0       Ventas\n",
      "7   8  Carlos3  35.0   Lesbiana  60000.0       Ventas\n",
      "ID                int64\n",
      "Nombre           object\n",
      "Edad            float64\n",
      "Genero           object\n",
      "Salario         float64\n",
      "Departamento     object\n",
      "dtype: object\n"
     ]
    }
   ],
   "source": [
    "# Errores en los tipos d datos\n",
    "\n",
    "#Convertir una columna a nmerica numeros en letras en lugar de numeros\n",
    "df['Edad'] = pd.to_numeric(df['Edad'], errors='coerce')\n",
    "# Si encuentra algo que no se ajusta al tipo que queremos trasnformar\n",
    "# EX. un numero escrito en letra esta funcion lo transformara en NaN not a number\n",
    "print(df)\n",
    "print(df.dtypes)\n",
    "\n",
    "# Rellenar valores nulos con la media\n",
    "print('Rellenar valores nulos con la media')\n",
    "meanEdad = df['Edad'].mean()\n",
    "df['Edad'] = df['Edad'].fillna(meanEdad)\n",
    "print(df)\n",
    "print(df.dtypes)"
   ]
  },
  {
   "cell_type": "code",
   "execution_count": 112,
   "id": "1e3db4a8-5e64-4d7d-bf33-89d5e785a515",
   "metadata": {},
   "outputs": [
    {
     "name": "stdout",
     "output_type": "stream",
     "text": [
      "   ID   Nombre  Edad     Genero  Salario Departamento\n",
      "0   1      Ana  25.0   Femenino  50000.0       Ventas\n",
      "1   2     Luis  30.0  Masculino      NaN    Marketing\n",
      "2   3   Carlos  35.0  Masculino  60000.0       Ventas\n",
      "3   4    Sofia  40.0   Femenino  55000.0         RRHH\n",
      "4   5      NaN  45.0  Masculino  70000.0           TI\n",
      "5   6  Carlos1  35.0      Trans  60000.0       Ventas\n",
      "6   7  Carlos2  35.0        Gay  60000.0       Ventas\n",
      "7   8  Carlos3  35.0   Lesbiana  60000.0       Ventas\n",
      "ID                int64\n",
      "Nombre           object\n",
      "Edad            float64\n",
      "Genero           object\n",
      "Salario         float64\n",
      "Departamento     object\n",
      "dtype: object\n",
      "Rellenar valores nulos con la media\n",
      "   ID   Nombre  Edad     Genero       Salario Departamento\n",
      "0   1      Ana  25.0   Femenino  50000.000000       Ventas\n",
      "1   2     Luis  30.0  Masculino  59285.714286    Marketing\n",
      "2   3   Carlos  35.0  Masculino  60000.000000       Ventas\n",
      "3   4    Sofia  40.0   Femenino  55000.000000         RRHH\n",
      "4   5      NaN  45.0  Masculino  70000.000000           TI\n",
      "5   6  Carlos1  35.0      Trans  60000.000000       Ventas\n",
      "6   7  Carlos2  35.0        Gay  60000.000000       Ventas\n",
      "7   8  Carlos3  35.0   Lesbiana  60000.000000       Ventas\n",
      "ID                int64\n",
      "Nombre           object\n",
      "Edad            float64\n",
      "Genero           object\n",
      "Salario         float64\n",
      "Departamento     object\n",
      "dtype: object\n"
     ]
    }
   ],
   "source": [
    "#Convertir una columna a nmerica numeros en letras en lugar de numeros\n",
    "df['Salario'] = pd.to_numeric(df['Salario'], errors='coerce')\n",
    "# Si encuentra algo que no se ajusta al tipo que queremos trasnformar\n",
    "# EX. un numero escrito en letra esta funcion lo transformara en NaN not a number\n",
    "print(df)\n",
    "print(df.dtypes)\n",
    "\n",
    "# Rellenar valores nulos con la media\n",
    "print('Rellenar valores nulos con la media')\n",
    "meanSalario = df['Salario'].mean()\n",
    "df['Salario'] = df['Salario'].fillna(meanSalario)\n",
    "print(df)\n",
    "print(df.dtypes)"
   ]
  },
  {
   "cell_type": "code",
   "execution_count": 113,
   "id": "c53a54c7-e98b-4a79-89e1-85b007c91450",
   "metadata": {},
   "outputs": [],
   "source": [
    "# Conversion de variables a numeros\n",
    "#df['Genero'] = df['Genero'].map({'F': 0, 'M':1})\n",
    "#print(df)\n"
   ]
  },
  {
   "cell_type": "code",
   "execution_count": 114,
   "id": "eb084ea8-f787-40d7-a6ae-8fc2b4a3f560",
   "metadata": {},
   "outputs": [
    {
     "name": "stdout",
     "output_type": "stream",
     "text": [
      "   ID   Nombre  Edad     Genero       Salario  Departamento_RRHH  \\\n",
      "0   1      Ana  25.0   Femenino  50000.000000              False   \n",
      "1   2     Luis  30.0  Masculino  59285.714286              False   \n",
      "2   3   Carlos  35.0  Masculino  60000.000000              False   \n",
      "3   4    Sofia  40.0   Femenino  55000.000000               True   \n",
      "4   5      NaN  45.0  Masculino  70000.000000              False   \n",
      "5   6  Carlos1  35.0      Trans  60000.000000              False   \n",
      "6   7  Carlos2  35.0        Gay  60000.000000              False   \n",
      "7   8  Carlos3  35.0   Lesbiana  60000.000000              False   \n",
      "\n",
      "   Departamento_TI  Departamento_Ventas  \n",
      "0            False                 True  \n",
      "1            False                False  \n",
      "2            False                 True  \n",
      "3            False                False  \n",
      "4             True                False  \n",
      "5            False                 True  \n",
      "6            False                 True  \n",
      "7            False                 True  \n",
      "   ID   Nombre  Edad     Genero       Salario  Departamento_Marketing  \\\n",
      "0   1      Ana  25.0   Femenino  50000.000000                   False   \n",
      "1   2     Luis  30.0  Masculino  59285.714286                    True   \n",
      "2   3   Carlos  35.0  Masculino  60000.000000                   False   \n",
      "3   4    Sofia  40.0   Femenino  55000.000000                   False   \n",
      "4   5      NaN  45.0  Masculino  70000.000000                   False   \n",
      "5   6  Carlos1  35.0      Trans  60000.000000                   False   \n",
      "6   7  Carlos2  35.0        Gay  60000.000000                   False   \n",
      "7   8  Carlos3  35.0   Lesbiana  60000.000000                   False   \n",
      "\n",
      "   Departamento_RRHH  Departamento_TI  Departamento_Ventas  \n",
      "0              False            False                 True  \n",
      "1              False            False                False  \n",
      "2              False            False                 True  \n",
      "3               True            False                False  \n",
      "4              False             True                False  \n",
      "5              False            False                 True  \n",
      "6              False            False                 True  \n",
      "7              False            False                 True  \n"
     ]
    }
   ],
   "source": [
    "dfV1 = pd.get_dummies(df, columns=['Departamento'], drop_first=True)\n",
    "print(dfV1)\n",
    "\n",
    "dfV2 = pd.get_dummies(df, columns=['Departamento'])\n",
    "print(dfV2)"
   ]
  },
  {
   "cell_type": "code",
   "execution_count": 115,
   "id": "2fae045a-2985-4d9a-94e0-caf12ac53bda",
   "metadata": {},
   "outputs": [
    {
     "name": "stdout",
     "output_type": "stream",
     "text": [
      "   ID   Nombre  Edad Genero       Salario Departamento\n",
      "0   1      Ana  25.0      F  50000.000000       Ventas\n",
      "1   2     Luis  30.0      M  59285.714286    Marketing\n",
      "2   3   Carlos  35.0      M  60000.000000       Ventas\n",
      "3   4    Sofia  40.0      F  55000.000000         RRHH\n",
      "4   5      NaN  45.0      M  70000.000000           TI\n",
      "5   6  Carlos1  35.0      T  60000.000000       Ventas\n",
      "6   7  Carlos2  35.0      G  60000.000000       Ventas\n",
      "7   8  Carlos3  35.0      L  60000.000000       Ventas\n"
     ]
    }
   ],
   "source": [
    "# Get all genres\n",
    "#genres = df['Genero'].unique()\n",
    "#mapGenres = {}\n",
    "#for value in genres:\n",
    "#    mapGenres[value] = value[0]\n",
    "    \n",
    "df['Genero'] = df['Genero'].apply(lambda x: x[0])\n",
    "#print(genres)\n",
    "#print(mapGenres)\n",
    "print(df)\n"
   ]
  }
 ],
 "metadata": {
  "kernelspec": {
   "display_name": "Python [conda env:base] *",
   "language": "python",
   "name": "conda-base-py"
  },
  "language_info": {
   "codemirror_mode": {
    "name": "ipython",
    "version": 3
   },
   "file_extension": ".py",
   "mimetype": "text/x-python",
   "name": "python",
   "nbconvert_exporter": "python",
   "pygments_lexer": "ipython3",
   "version": "3.13.5"
  }
 },
 "nbformat": 4,
 "nbformat_minor": 5
}
