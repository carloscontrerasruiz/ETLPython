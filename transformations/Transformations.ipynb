{
 "cells": [
  {
   "cell_type": "code",
   "execution_count": 17,
   "id": "325be4ea-a1c1-4e97-8c99-66cff365fa77",
   "metadata": {},
   "outputs": [
    {
     "name": "stdout",
     "output_type": "stream",
     "text": [
      "   ID_Empleado  Nombre Departamento  Salario Fecha_Ingreso\n",
      "0            1     Ana       Ventas    50000    2015-06-01\n",
      "1            2    Luis           TI    70000    2017-03-15\n",
      "2            3   Pedro    Marketing    60000    2018-11-01\n",
      "3            4   Marta           TI    75000    2020-01-10\n",
      "4            5  Carlos       Ventas    52000    2016-05-01\n",
      "5            6   Laura    Marketing    59000    2019-07-23\n",
      "6            7    José       Ventas    48000    2021-01-01\n",
      "   ID_Empleado  Bonificacion\n",
      "0            1          5000\n",
      "1            2          8000\n",
      "2            3          3000\n",
      "3            4         10000\n",
      "4            5          2500\n",
      "5            6          4000\n",
      "6            7          1500\n"
     ]
    }
   ],
   "source": [
    "import pandas as pd\n",
    "import numpy as np\n",
    "\n",
    "df_empleados = pd.read_csv('./empleados.csv')\n",
    "df_bonificaciones = pd.read_csv('./bonificaciones.csv')\n",
    "\n",
    "print(df_empleados)\n",
    "print(df_bonificaciones)"
   ]
  },
  {
   "cell_type": "code",
   "execution_count": 18,
   "id": "78938c98-e233-4836-bbe2-ed4acdef8e64",
   "metadata": {},
   "outputs": [
    {
     "name": "stdout",
     "output_type": "stream",
     "text": [
      "   ID_Empleado  Nombre Departamento  Salario Fecha_Ingreso  Salario_Anual\n",
      "0            1     Ana       Ventas    50000    2015-06-01         600000\n",
      "1            2    Luis           TI    70000    2017-03-15         840000\n",
      "2            3   Pedro    Marketing    60000    2018-11-01         720000\n",
      "3            4   Marta           TI    75000    2020-01-10         900000\n",
      "4            5  Carlos       Ventas    52000    2016-05-01         624000\n",
      "5            6   Laura    Marketing    59000    2019-07-23         708000\n",
      "6            7    José       Ventas    48000    2021-01-01         576000\n"
     ]
    }
   ],
   "source": [
    "def salarioAnual(salario):\n",
    "    return salario * 12\n",
    "\n",
    "#df_empleados['Salario_Anual'] = df_empleados['Salario'].apply(salarioAnual)\n",
    "df_empleados['Salario_Anual'] = df_empleados['Salario'].apply(lambda salario: salario * 12)\n",
    "print(df_empleados)"
   ]
  },
  {
   "cell_type": "code",
   "execution_count": 19,
   "id": "31a24036-7bf7-412c-92bf-c10c967d1720",
   "metadata": {},
   "outputs": [
    {
     "name": "stdout",
     "output_type": "stream",
     "text": [
      "   ID_Empleado  Nombre Departamento  Salario Fecha_Ingreso  Salario_Anual  \\\n",
      "0            1     Ana       Ventas    50000    2015-06-01         600000   \n",
      "1            2    Luis           TI    70000    2017-03-15         840000   \n",
      "2            3   Pedro    Marketing    60000    2018-11-01         720000   \n",
      "3            4   Marta           TI    75000    2020-01-10         900000   \n",
      "4            5  Carlos       Ventas    52000    2016-05-01         624000   \n",
      "5            6   Laura    Marketing    59000    2019-07-23         708000   \n",
      "6            7    José       Ventas    48000    2021-01-01         576000   \n",
      "\n",
      "   Antiguedad_mayor_5  \n",
      "0                True  \n",
      "1                True  \n",
      "2                True  \n",
      "3                True  \n",
      "4                True  \n",
      "5                True  \n",
      "6               False  \n"
     ]
    }
   ],
   "source": [
    "def antiguedad_5_anos(fecha_ingreso):\n",
    "    today = pd.to_datetime('today')\n",
    "    antiguedad = today - pd.to_datetime(fecha_ingreso)\n",
    "    return antiguedad.days / 365 > 5\n",
    "\n",
    "df_empleados['Antiguedad_mayor_5'] = df_empleados['Fecha_Ingreso'].apply(antiguedad_5_anos)\n",
    "print(df_empleados)"
   ]
  },
  {
   "cell_type": "markdown",
   "id": "431c8e87-595c-4a0e-ac98-3d886841ee9b",
   "metadata": {},
   "source": [
    "# Pivot Tables"
   ]
  },
  {
   "cell_type": "code",
   "execution_count": 20,
   "id": "83612050-2efd-4f05-9e4c-c34afba80213",
   "metadata": {},
   "outputs": [
    {
     "name": "stdout",
     "output_type": "stream",
     "text": [
      "              Salario\n",
      "Departamento         \n",
      "Marketing     59500.0\n",
      "TI            72500.0\n",
      "Ventas        50000.0\n"
     ]
    }
   ],
   "source": [
    "pivot_departamento = df_empleados.pivot_table(values='Salario', index='Departamento', aggfunc='mean')\n",
    "print(pivot_departamento)"
   ]
  },
  {
   "cell_type": "markdown",
   "id": "6d44a8b4-5119-4fe4-bcde-7bb6f62b44dd",
   "metadata": {},
   "source": [
    "## Merge y Join"
   ]
  },
  {
   "cell_type": "code",
   "execution_count": 21,
   "id": "5177e37e-5706-4e8d-9b3a-7fcbf27b59cd",
   "metadata": {},
   "outputs": [
    {
     "name": "stdout",
     "output_type": "stream",
     "text": [
      "   ID_Empleado  Nombre Departamento  Salario Fecha_Ingreso  Salario_Anual  \\\n",
      "0            1     Ana       Ventas    50000    2015-06-01         600000   \n",
      "1            2    Luis           TI    70000    2017-03-15         840000   \n",
      "2            3   Pedro    Marketing    60000    2018-11-01         720000   \n",
      "3            4   Marta           TI    75000    2020-01-10         900000   \n",
      "4            5  Carlos       Ventas    52000    2016-05-01         624000   \n",
      "5            6   Laura    Marketing    59000    2019-07-23         708000   \n",
      "6            7    José       Ventas    48000    2021-01-01         576000   \n",
      "\n",
      "   Antiguedad_mayor_5  Bonificacion  \n",
      "0                True          5000  \n",
      "1                True          8000  \n",
      "2                True          3000  \n",
      "3                True         10000  \n",
      "4                True          2500  \n",
      "5                True          4000  \n",
      "6               False          1500  \n"
     ]
    }
   ],
   "source": [
    "df_completo = pd.merge(df_empleados, df_bonificaciones, on='ID_Empleado', how='left')\n",
    "print(df_completo)"
   ]
  },
  {
   "cell_type": "code",
   "execution_count": 22,
   "id": "1eaf26fb-46a1-4dda-a571-0bd97fd950a7",
   "metadata": {},
   "outputs": [
    {
     "name": "stdout",
     "output_type": "stream",
     "text": [
      "              Ubicacion\n",
      "Departamento           \n",
      "Ventas             CDMX\n",
      "TI            Monterrey\n",
      "Marketing        Puebla\n"
     ]
    }
   ],
   "source": [
    "# asi se puede crear un data frame a partir de un objeto\n",
    "data_departamentos = {\n",
    "    'Departamento': ['Ventas', 'TI', 'Marketing'],\n",
    "    'Ubicacion': ['CDMX', 'Monterrey','Puebla']\n",
    "}\n",
    "df_departamentos = pd.DataFrame(data_departamentos)\n",
    "df_departamentos.set_index('Departamento', inplace=True)\n",
    "print(df_departamentos)"
   ]
  },
  {
   "cell_type": "code",
   "execution_count": 23,
   "id": "6ddca7fa-e6cf-408d-866f-1f83c2c508a9",
   "metadata": {},
   "outputs": [
    {
     "name": "stdout",
     "output_type": "stream",
     "text": [
      "\n",
      "Data combinada\n",
      "              ID_Empleado  Nombre  Salario Fecha_Ingreso  Salario_Anual  \\\n",
      "Departamento                                                              \n",
      "Ventas                  1     Ana    50000    2015-06-01         600000   \n",
      "TI                      2    Luis    70000    2017-03-15         840000   \n",
      "Marketing               3   Pedro    60000    2018-11-01         720000   \n",
      "TI                      4   Marta    75000    2020-01-10         900000   \n",
      "Ventas                  5  Carlos    52000    2016-05-01         624000   \n",
      "Marketing               6   Laura    59000    2019-07-23         708000   \n",
      "Ventas                  7    José    48000    2021-01-01         576000   \n",
      "\n",
      "              Antiguedad_mayor_5  Ubicacion  \n",
      "Departamento                                 \n",
      "Ventas                      True       CDMX  \n",
      "TI                          True  Monterrey  \n",
      "Marketing                   True     Puebla  \n",
      "TI                          True  Monterrey  \n",
      "Ventas                      True       CDMX  \n",
      "Marketing                   True     Puebla  \n",
      "Ventas                     False       CDMX  \n",
      "\n",
      "Data original\n",
      "   ID_Empleado  Nombre Departamento  Salario Fecha_Ingreso  Salario_Anual  \\\n",
      "0            1     Ana       Ventas    50000    2015-06-01         600000   \n",
      "1            2    Luis           TI    70000    2017-03-15         840000   \n",
      "2            3   Pedro    Marketing    60000    2018-11-01         720000   \n",
      "3            4   Marta           TI    75000    2020-01-10         900000   \n",
      "4            5  Carlos       Ventas    52000    2016-05-01         624000   \n",
      "5            6   Laura    Marketing    59000    2019-07-23         708000   \n",
      "6            7    José       Ventas    48000    2021-01-01         576000   \n",
      "\n",
      "   Antiguedad_mayor_5  \n",
      "0                True  \n",
      "1                True  \n",
      "2                True  \n",
      "3                True  \n",
      "4                True  \n",
      "5                True  \n",
      "6               False  \n"
     ]
    }
   ],
   "source": [
    "#Aqui no se usa inplace=True por que no quiero cambiar el original\n",
    "#Sin el implace regresa un nobeType\n",
    "df_join = df_empleados.set_index('Departamento').join(df_departamentos)\n",
    "print('')\n",
    "print('Data combinada')\n",
    "print(df_join)\n",
    "print('')\n",
    "print('Data original')\n",
    "print(df_empleados)"
   ]
  }
 ],
 "metadata": {
  "kernelspec": {
   "display_name": "Python [conda env:base] *",
   "language": "python",
   "name": "conda-base-py"
  },
  "language_info": {
   "codemirror_mode": {
    "name": "ipython",
    "version": 3
   },
   "file_extension": ".py",
   "mimetype": "text/x-python",
   "name": "python",
   "nbconvert_exporter": "python",
   "pygments_lexer": "ipython3",
   "version": "3.13.5"
  }
 },
 "nbformat": 4,
 "nbformat_minor": 5
}
