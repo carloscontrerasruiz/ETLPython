{
 "cells": [
  {
   "cell_type": "code",
   "execution_count": 10,
   "id": "daff149f-932e-4f0d-8732-3359d5b043c8",
   "metadata": {},
   "outputs": [],
   "source": [
    "import pandas as pd\n",
    "import os\n",
    "\n",
    "data_nueva_1 = {\n",
    "'id': [1,2,3],\n",
    "'nombre': ['Carla', 'Laura', 'Luis'],\n",
    "'categoria': ['a','b','c'],\n",
    "'ventas': [120,170,200],\n",
    "'ano': [2024,2023,2024]\n",
    "}\n",
    "\n",
    "df_nueva_1 = pd.DataFrame(data_nueva_1)\n",
    "df_nueva_1.to_excel('data_nueva_1.xlsx', index=False)\n",
    "\n",
    "data_nueva_2 = {\n",
    "'id': [4,5,6],\n",
    "'nombre': ['Carlos', 'Lucia', 'Miguel'],\n",
    "'categoria': ['a','b','c'],\n",
    "'ventas': [210,180,250],\n",
    "'ano': [2024,2023,2024]\n",
    "}\n",
    "\n",
    "df_nueva_2 = pd.DataFrame(data_nueva_2)\n",
    "df_nueva_2.to_excel('data_nueva_2.xlsx', index=False)"
   ]
  },
  {
   "cell_type": "code",
   "execution_count": 16,
   "id": "f1614e69-dc22-493e-a54e-8e39382fcd05",
   "metadata": {},
   "outputs": [],
   "source": [
    "def carga_incremental_excel(data_nueva_path, data_completa_ruta):\n",
    "    df_data_nueva = pd.read_excel(data_nueva_path)\n",
    "    if os.path.exists(data_completa_ruta):\n",
    "        df_data_completa = pd.read_excel(data_completa_ruta)\n",
    "        df_data_completa = pd.concat([df_data_completa, df_data_nueva]).drop_duplicates(subset=['id'], keep='last')\n",
    "        print(f\"Datos combinados {len(df_data_completa)}\")\n",
    "    else:\n",
    "        print(\"Archivo no existe\")\n",
    "        df_data_completa = df_data_nueva\n",
    "\n",
    "    df_data_completa.to_excel(data_completa_ruta, index=False)\n",
    "    print(\"Carga incremental realizada correctamente.\")"
   ]
  },
  {
   "cell_type": "code",
   "execution_count": 17,
   "id": "009a837a-ee93-4a88-9361-41da5288c198",
   "metadata": {},
   "outputs": [
    {
     "name": "stdout",
     "output_type": "stream",
     "text": [
      "Archivo no existe\n",
      "Carga incremental realizada correctamente.\n",
      "Datos combinados 6\n",
      "Carga incremental realizada correctamente.\n"
     ]
    }
   ],
   "source": [
    "carga_incremental_excel('data_nueva_1.xlsx', 'archivo_completo.xlsx')\n",
    "carga_incremental_excel('data_nueva_2.xlsx', 'archivo_completo.xlsx')"
   ]
  }
 ],
 "metadata": {
  "kernelspec": {
   "display_name": "Python [conda env:base] *",
   "language": "python",
   "name": "conda-base-py"
  },
  "language_info": {
   "codemirror_mode": {
    "name": "ipython",
    "version": 3
   },
   "file_extension": ".py",
   "mimetype": "text/x-python",
   "name": "python",
   "nbconvert_exporter": "python",
   "pygments_lexer": "ipython3",
   "version": "3.13.5"
  }
 },
 "nbformat": 4,
 "nbformat_minor": 5
}
